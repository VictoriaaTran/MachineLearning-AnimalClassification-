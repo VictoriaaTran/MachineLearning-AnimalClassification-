{
  "nbformat": 4,
  "nbformat_minor": 0,
  "metadata": {
    "colab": {
      "provenance": []
    },
    "kernelspec": {
      "name": "python3",
      "display_name": "Python 3"
    },
    "language_info": {
      "name": "python"
    }
  },
  "cells": [
    {
      "cell_type": "code",
      "execution_count": null,
      "metadata": {
        "id": "-y0qerKy8013"
      },
      "outputs": [],
      "source": [
        "# the original assignment this code is based on is Assign 6\n",
        "# https://www.kaggle.com/datasets/uciml/zoo-animal-classification?select=zoo.csv\n",
        "\n",
        "# Import the libraries\n",
        "import numpy as np\n",
        "import matplotlib.pyplot as plt\n",
        "import pandas as pd\n",
        "\n",
        "# Import data from file into a DataFrame\n",
        "df = pd.read_csv(\"zoo.csv\")"
      ]
    },
    {
      "cell_type": "code",
      "source": [
        "# Define the feature and target values\n",
        "from sklearn.datasets import make_classification\n",
        "\n",
        "X = df.iloc[:,1:-1].values\n",
        "y = df.iloc[:,-1].values\n",
        "Z = df.iloc[:,1:-2].values\n",
        "for i in range(len(Z)):\n",
        "  Z[i][0] = i\n",
        "Z[90]"
      ],
      "metadata": {
        "id": "l7_5AD3MCHjT",
        "colab": {
          "base_uri": "https://localhost:8080/"
        },
        "outputId": "ac26e500-7731-455e-c92c-b355603200ec"
      },
      "execution_count": null,
      "outputs": [
        {
          "output_type": "execute_result",
          "data": {
            "text/plain": [
              "array([90,  0,  1,  0,  0,  0,  0,  0,  1,  1,  0,  0,  4,  1,  0])"
            ]
          },
          "metadata": {},
          "execution_count": 35
        }
      ]
    },
    {
      "cell_type": "code",
      "source": [
        "# FEATURE SCALING\n",
        "from sklearn.preprocessing import StandardScaler\n",
        "\n",
        "# create instances of StandardScaler\n",
        "sc = StandardScaler()\n",
        "\n",
        "# transform X using fit_transform method of sc\n",
        "X = sc.fit_transform(X)\n"
      ],
      "metadata": {
        "id": "t6NiaWpiCHnl"
      },
      "execution_count": null,
      "outputs": []
    },
    {
      "cell_type": "code",
      "source": [
        "# Split X, y into X_train, X_test, y_train, y_test with 7.5:2.5 ratio\n",
        "from sklearn.model_selection import train_test_split\n",
        "\n",
        "X_train, X_test, y_train, y_test = train_test_split(X, y, test_size = 0.25, random_state=0)\n",
        "Z_train, Z_test, a_train, a_test = train_test_split(Z, y, test_size = 0.25, random_state=0)\n",
        "\n",
        "X_test_original = sc.inverse_transform(X_test)\n",
        "print(X_test_original)\n"
      ],
      "metadata": {
        "id": "vmXpOkWzCHtm",
        "colab": {
          "base_uri": "https://localhost:8080/"
        },
        "outputId": "7e15af12-f33d-4c67-a579-678afb37f19c"
      },
      "execution_count": null,
      "outputs": [
        {
          "output_type": "stream",
          "name": "stdout",
          "text": [
            "[[0. 0. 1. 0. 0. 1. 1. 1. 1. 1. 1. 0. 4. 0. 0. 0.]\n",
            " [0. 0. 1. 0. 0. 1. 1. 1. 1. 0. 1. 1. 0. 1. 0. 1.]\n",
            " [0. 0. 1. 0. 0. 1. 1. 1. 1. 0. 0. 1. 0. 1. 0. 0.]\n",
            " [1. 0. 0. 1. 0. 0. 0. 1. 1. 1. 0. 0. 4. 1. 0. 1.]\n",
            " [1. 0. 0. 1. 0. 1. 1. 1. 1. 1. 0. 1. 2. 1. 0. 1.]\n",
            " [1. 0. 0. 1. 0. 0. 0. 1. 1. 1. 0. 0. 4. 1. 0. 0.]\n",
            " [0. 1. 1. 0. 1. 0. 1. 0. 1. 1. 0. 0. 2. 1. 0. 0.]\n",
            " [0. 0. 1. 0. 0. 1. 0. 1. 1. 0. 0. 1. 0. 1. 0. 0.]\n",
            " [1. 0. 0. 1. 0. 0. 1. 1. 1. 1. 0. 0. 4. 1. 0. 0.]\n",
            " [1. 0. 0. 1. 0. 0. 0. 1. 1. 1. 0. 0. 2. 1. 0. 1.]\n",
            " [0. 0. 1. 0. 0. 1. 1. 0. 0. 0. 0. 0. 8. 0. 0. 1.]\n",
            " [1. 0. 0. 1. 1. 0. 0. 1. 1. 1. 0. 0. 2. 1. 0. 0.]\n",
            " [0. 1. 1. 0. 1. 1. 1. 0. 1. 1. 0. 0. 2. 1. 0. 0.]\n",
            " [0. 0. 1. 0. 0. 0. 1. 0. 0. 0. 0. 0. 0. 0. 0. 0.]\n",
            " [0. 0. 1. 0. 0. 1. 0. 1. 1. 0. 0. 1. 0. 1. 1. 0.]\n",
            " [0. 0. 1. 0. 1. 0. 0. 0. 0. 1. 0. 0. 6. 0. 0. 0.]\n",
            " [1. 0. 0. 1. 0. 0. 0. 1. 1. 1. 0. 0. 4. 1. 0. 1.]\n",
            " [0. 0. 1. 0. 0. 0. 0. 0. 0. 1. 0. 0. 6. 0. 0. 0.]\n",
            " [0. 1. 1. 0. 1. 1. 1. 0. 1. 1. 0. 0. 2. 1. 0. 0.]\n",
            " [0. 0. 1. 0. 0. 1. 1. 1. 1. 0. 0. 1. 0. 1. 0. 0.]\n",
            " [0. 1. 1. 0. 1. 0. 0. 0. 1. 1. 0. 0. 2. 1. 0. 0.]\n",
            " [0. 0. 1. 0. 0. 0. 1. 1. 1. 1. 1. 0. 0. 1. 0. 0.]\n",
            " [1. 0. 0. 1. 0. 0. 1. 1. 1. 1. 0. 0. 4. 0. 0. 1.]\n",
            " [0. 1. 1. 0. 0. 0. 1. 0. 1. 1. 0. 0. 2. 1. 0. 1.]\n",
            " [1. 0. 0. 1. 0. 0. 1. 1. 1. 1. 0. 0. 4. 1. 0. 1.]\n",
            " [1. 0. 0. 1. 0. 1. 1. 1. 1. 1. 0. 0. 4. 1. 0. 1.]]\n"
          ]
        }
      ]
    },
    {
      "cell_type": "code",
      "source": [
        "# Build a SVM model with RBF kernel on the Training Set\n",
        "from sklearn.svm import SVC\n",
        "\n",
        "clf = SVC(random_state=0)\n",
        "# fit\n",
        "clf.fit(X_train,y_train)"
      ],
      "metadata": {
        "colab": {
          "base_uri": "https://localhost:8080/",
          "height": 75
        },
        "id": "hgIXq5WTCHxH",
        "outputId": "305c78df-cd0f-41d7-fd8d-d7b3e4787027"
      },
      "execution_count": null,
      "outputs": [
        {
          "output_type": "execute_result",
          "data": {
            "text/plain": [
              "SVC(random_state=0)"
            ],
            "text/html": [
              "<style>#sk-container-id-4 {color: black;background-color: white;}#sk-container-id-4 pre{padding: 0;}#sk-container-id-4 div.sk-toggleable {background-color: white;}#sk-container-id-4 label.sk-toggleable__label {cursor: pointer;display: block;width: 100%;margin-bottom: 0;padding: 0.3em;box-sizing: border-box;text-align: center;}#sk-container-id-4 label.sk-toggleable__label-arrow:before {content: \"▸\";float: left;margin-right: 0.25em;color: #696969;}#sk-container-id-4 label.sk-toggleable__label-arrow:hover:before {color: black;}#sk-container-id-4 div.sk-estimator:hover label.sk-toggleable__label-arrow:before {color: black;}#sk-container-id-4 div.sk-toggleable__content {max-height: 0;max-width: 0;overflow: hidden;text-align: left;background-color: #f0f8ff;}#sk-container-id-4 div.sk-toggleable__content pre {margin: 0.2em;color: black;border-radius: 0.25em;background-color: #f0f8ff;}#sk-container-id-4 input.sk-toggleable__control:checked~div.sk-toggleable__content {max-height: 200px;max-width: 100%;overflow: auto;}#sk-container-id-4 input.sk-toggleable__control:checked~label.sk-toggleable__label-arrow:before {content: \"▾\";}#sk-container-id-4 div.sk-estimator input.sk-toggleable__control:checked~label.sk-toggleable__label {background-color: #d4ebff;}#sk-container-id-4 div.sk-label input.sk-toggleable__control:checked~label.sk-toggleable__label {background-color: #d4ebff;}#sk-container-id-4 input.sk-hidden--visually {border: 0;clip: rect(1px 1px 1px 1px);clip: rect(1px, 1px, 1px, 1px);height: 1px;margin: -1px;overflow: hidden;padding: 0;position: absolute;width: 1px;}#sk-container-id-4 div.sk-estimator {font-family: monospace;background-color: #f0f8ff;border: 1px dotted black;border-radius: 0.25em;box-sizing: border-box;margin-bottom: 0.5em;}#sk-container-id-4 div.sk-estimator:hover {background-color: #d4ebff;}#sk-container-id-4 div.sk-parallel-item::after {content: \"\";width: 100%;border-bottom: 1px solid gray;flex-grow: 1;}#sk-container-id-4 div.sk-label:hover label.sk-toggleable__label {background-color: #d4ebff;}#sk-container-id-4 div.sk-serial::before {content: \"\";position: absolute;border-left: 1px solid gray;box-sizing: border-box;top: 0;bottom: 0;left: 50%;z-index: 0;}#sk-container-id-4 div.sk-serial {display: flex;flex-direction: column;align-items: center;background-color: white;padding-right: 0.2em;padding-left: 0.2em;position: relative;}#sk-container-id-4 div.sk-item {position: relative;z-index: 1;}#sk-container-id-4 div.sk-parallel {display: flex;align-items: stretch;justify-content: center;background-color: white;position: relative;}#sk-container-id-4 div.sk-item::before, #sk-container-id-4 div.sk-parallel-item::before {content: \"\";position: absolute;border-left: 1px solid gray;box-sizing: border-box;top: 0;bottom: 0;left: 50%;z-index: -1;}#sk-container-id-4 div.sk-parallel-item {display: flex;flex-direction: column;z-index: 1;position: relative;background-color: white;}#sk-container-id-4 div.sk-parallel-item:first-child::after {align-self: flex-end;width: 50%;}#sk-container-id-4 div.sk-parallel-item:last-child::after {align-self: flex-start;width: 50%;}#sk-container-id-4 div.sk-parallel-item:only-child::after {width: 0;}#sk-container-id-4 div.sk-dashed-wrapped {border: 1px dashed gray;margin: 0 0.4em 0.5em 0.4em;box-sizing: border-box;padding-bottom: 0.4em;background-color: white;}#sk-container-id-4 div.sk-label label {font-family: monospace;font-weight: bold;display: inline-block;line-height: 1.2em;}#sk-container-id-4 div.sk-label-container {text-align: center;}#sk-container-id-4 div.sk-container {/* jupyter's `normalize.less` sets `[hidden] { display: none; }` but bootstrap.min.css set `[hidden] { display: none !important; }` so we also need the `!important` here to be able to override the default hidden behavior on the sphinx rendered scikit-learn.org. See: https://github.com/scikit-learn/scikit-learn/issues/21755 */display: inline-block !important;position: relative;}#sk-container-id-4 div.sk-text-repr-fallback {display: none;}</style><div id=\"sk-container-id-4\" class=\"sk-top-container\"><div class=\"sk-text-repr-fallback\"><pre>SVC(random_state=0)</pre><b>In a Jupyter environment, please rerun this cell to show the HTML representation or trust the notebook. <br />On GitHub, the HTML representation is unable to render, please try loading this page with nbviewer.org.</b></div><div class=\"sk-container\" hidden><div class=\"sk-item\"><div class=\"sk-estimator sk-toggleable\"><input class=\"sk-toggleable__control sk-hidden--visually\" id=\"sk-estimator-id-4\" type=\"checkbox\" checked><label for=\"sk-estimator-id-4\" class=\"sk-toggleable__label sk-toggleable__label-arrow\">SVC</label><div class=\"sk-toggleable__content\"><pre>SVC(random_state=0)</pre></div></div></div></div></div>"
            ]
          },
          "metadata": {},
          "execution_count": 38
        }
      ]
    },
    {
      "cell_type": "code",
      "source": [
        "# Predict the test set results y_pred (y_hat) from X_test \n",
        "\n",
        "y_pred = clf.predict(X_test)\n",
        "y_pred"
      ],
      "metadata": {
        "colab": {
          "base_uri": "https://localhost:8080/"
        },
        "id": "438zoywlCH2G",
        "outputId": "31e69ba4-afbb-4a95-c29d-dc9cea2c1c70"
      },
      "execution_count": null,
      "outputs": [
        {
          "output_type": "execute_result",
          "data": {
            "text/plain": [
              "array([7, 3, 4, 1, 1, 1, 2, 4, 1, 1, 7, 1, 2, 7, 4, 6, 1, 6, 2, 4, 2, 3,\n",
              "       1, 2, 1, 1])"
            ]
          },
          "metadata": {},
          "execution_count": 39
        }
      ]
    },
    {
      "cell_type": "code",
      "source": [
        "# Compute Confussion Matrix\n",
        "from sklearn.metrics import confusion_matrix\n",
        "from sklearn.metrics import ConfusionMatrixDisplay\n",
        "\n",
        "cm = confusion_matrix(y_test, y_pred)"
      ],
      "metadata": {
        "id": "z4JLfythCT4b"
      },
      "execution_count": null,
      "outputs": []
    },
    {
      "cell_type": "code",
      "source": [
        "# Display Confusion Matrix\n",
        "disp = ConfusionMatrixDisplay(confusion_matrix=cm)\n",
        "disp.plot()\n",
        "plt.show()"
      ],
      "metadata": {
        "colab": {
          "base_uri": "https://localhost:8080/",
          "height": 455
        },
        "id": "GQQYZdzhCT7Q",
        "outputId": "0b91cbec-8119-4882-cf8b-bca832f17f35"
      },
      "execution_count": null,
      "outputs": [
        {
          "output_type": "display_data",
          "data": {
            "text/plain": [
              "<Figure size 640x480 with 2 Axes>"
            ],
            "image/png": "[encoded data removed]"
          },
          "metadata": {}
        }
      ]
    },
    {
      "cell_type": "code",
      "source": [
        "# Import metrics from sklearn\n",
        "from sklearn import metrics\n",
        "\n",
        "# Accuracy Score\n",
        "acc = metrics.accuracy_score(y_test, y_pred)\n",
        "print('Accuracy = ', str(acc))\n",
        "# Precision Score\n",
        "#assuming that the classifier correctly predicted all samples for that class\n",
        "pre = metrics.precision_score(y_test, y_pred, average='weighted', zero_division=1)\n",
        "print('Precision = ', str(pre))\n",
        "# Recall Score\n",
        "red = metrics.recall_score(y_test, y_pred, average='weighted')\n",
        "print('Recall = ', str(red))\n",
        "# F1 Score\n",
        "f1 = metrics.f1_score(y_test, y_pred, average='weighted')\n",
        "print('F1_Score = ', str(f1))"
      ],
      "metadata": {
        "colab": {
          "base_uri": "https://localhost:8080/"
        },
        "id": "62z45HEpCT-k",
        "outputId": "4af10812-9b01-457e-c5b4-d55485b9da28"
      },
      "execution_count": null,
      "outputs": [
        {
          "output_type": "stream",
          "name": "stdout",
          "text": [
            "Accuracy =  0.9230769230769231\n",
            "Precision =  0.9551282051282051\n",
            "Recall =  0.9230769230769231\n",
            "F1_Score =  0.9119658119658121\n"
          ]
        }
      ]
    }
  ]
}